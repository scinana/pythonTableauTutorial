{
 "cells": [
  {
   "cell_type": "markdown",
   "metadata": {},
   "source": [
    "- For info on how to make HTTP requests, see https://www.datacamp.com/community/tutorials/making-http-requests-in-python"
   ]
  },
  {
   "cell_type": "markdown",
   "metadata": {},
   "source": [
    "# Requesting the CSV and JSON data"
   ]
  },
  {
   "cell_type": "code",
   "execution_count": 1,
   "metadata": {},
   "outputs": [],
   "source": [
    "import requests\n",
    "import json\n",
    "from datetime import datetime"
   ]
  },
  {
   "cell_type": "code",
   "execution_count": 2,
   "metadata": {},
   "outputs": [],
   "source": [
    "#urls where the data is stored\n",
    "url_csv = 'https://corgis-edu.github.io/corgis/datasets/csv/airlines/airlines.csv'\n",
    "url_json = 'https://corgis-edu.github.io/corgis/datasets/json/airlines/airlines.json'\n",
    "\n",
    "#filenames for the files we will create (save into a specific directory)\n",
    "filename_csv = 'airlines.csv'\n",
    "filename_json = 'airlines.json'"
   ]
  },
  {
   "cell_type": "code",
   "execution_count": 3,
   "metadata": {},
   "outputs": [],
   "source": [
    "#part of the code in this cell was taken (and parts were edited) from https://www.datacamp.com/community/tutorials/making-http-requests-in-python\n",
    "\n",
    "def requestData(url, filename):\n",
    "    \n",
    "    #request the data from a url - this gives us a response from the server\n",
    "    response = requests.get(url)\n",
    "    \n",
    "    #include the CORGISdata folder into the filename, so the new files are placed inside that folder\n",
    "    #filename_toSaveLocally = 'CORGISdata\\\\{}'.format(filename)    #relative path to save locally\n",
    "    filename_toSaveOnline = r'I:\\My Drive\\Data\\CORGISdata_online\\{}'.format(filename)\n",
    "    \n",
    "    #create a file to save the content of the response\n",
    "    with open(filename_toSaveOnline,'wb') as f:\n",
    "        f.write(response.content)\n",
    "    \n",
    "    #print the following as a visual aid\n",
    "    print('Requested URL: ' + url)\n",
    "    print('Request status: ' + str(response.status_code))\n",
    "    print('File saved at: ' + filename_toSaveOnline + '\\n')\n",
    "    print('HEADERS: ' + str(response.headers))\n",
    "    print('-----------------------------END OF REQUEST--------------------------\\n\\n')\n",
    "    \n",
    "    #return the response content if we want to work with it from memory (optional)\n",
    "    return response.content"
   ]
  },
  {
   "cell_type": "code",
   "execution_count": 4,
   "metadata": {},
   "outputs": [
    {
     "name": "stdout",
     "output_type": "stream",
     "text": [
      "Requested URL: https://corgis-edu.github.io/corgis/datasets/csv/airlines/airlines.csv\n",
      "Request status: 200\n",
      "File saved at: I:\\My Drive\\Data\\CORGISdata_online\\airlines.csv\n",
      "\n",
      "HEADERS: {'Connection': 'keep-alive', 'Content-Length': '262662', 'Server': 'GitHub.com', 'Content-Type': 'text/csv; charset=utf-8', 'permissions-policy': 'interest-cohort=()', 'Last-Modified': 'Tue, 25 Jan 2022 20:56:54 GMT', 'Access-Control-Allow-Origin': '*', 'Strict-Transport-Security': 'max-age=31556952', 'ETag': 'W/\"61f06416-1f4e94\"', 'expires': 'Sun, 10 Apr 2022 19:00:42 GMT', 'Cache-Control': 'max-age=600', 'Content-Encoding': 'gzip', 'x-proxy-cache': 'MISS', 'X-GitHub-Request-Id': '283C:638C:24862D:48690A:62532702', 'Accept-Ranges': 'bytes', 'Date': 'Sun, 10 Apr 2022 19:36:48 GMT', 'Via': '1.1 varnish', 'Age': '0', 'X-Served-By': 'cache-lon4260-LON', 'X-Cache': 'MISS', 'X-Cache-Hits': '0', 'X-Timer': 'S1649619408.279011,VS0,VE82', 'Vary': 'Accept-Encoding', 'X-Fastly-Request-ID': '547473b98450c59ad65d4eace3f7d102e523cdd3'}\n",
      "-----------------------------END OF REQUEST--------------------------\n",
      "\n",
      "\n",
      "Requested URL: https://corgis-edu.github.io/corgis/datasets/json/airlines/airlines.json\n",
      "Request status: 200\n",
      "File saved at: I:\\My Drive\\Data\\CORGISdata_online\\airlines.json\n",
      "\n",
      "HEADERS: {'Connection': 'keep-alive', 'Content-Length': '435026', 'Server': 'GitHub.com', 'Content-Type': 'application/json; charset=utf-8', 'permissions-policy': 'interest-cohort=()', 'Last-Modified': 'Tue, 25 Jan 2022 20:56:54 GMT', 'Access-Control-Allow-Origin': '*', 'Strict-Transport-Security': 'max-age=31556952', 'ETag': 'W/\"61f06416-4bc15d\"', 'expires': 'Sun, 10 Apr 2022 19:00:43 GMT', 'Cache-Control': 'max-age=600', 'Content-Encoding': 'gzip', 'x-proxy-cache': 'MISS', 'X-GitHub-Request-Id': 'C1FA:6380:27CD9BB:28E8988:62532703', 'Accept-Ranges': 'bytes', 'Date': 'Sun, 10 Apr 2022 19:36:48 GMT', 'Via': '1.1 varnish', 'Age': '0', 'X-Served-By': 'cache-lon4276-LON', 'X-Cache': 'MISS', 'X-Cache-Hits': '0', 'X-Timer': 'S1649619409.554673,VS0,VE113', 'Vary': 'Accept-Encoding', 'X-Fastly-Request-ID': 'f22e27086a449f8b8bc404581921703e77be2989'}\n",
      "-----------------------------END OF REQUEST--------------------------\n",
      "\n",
      "\n"
     ]
    }
   ],
   "source": [
    "#save the response content into each variable\n",
    "req_csv = requestData(url_csv, filename_csv)\n",
    "req_json = requestData(url_json, filename_json)"
   ]
  },
  {
   "cell_type": "markdown",
   "metadata": {},
   "source": [
    "# Scenario: the API/web service/website that is giving us the data will only send it in JSON format"
   ]
  },
  {
   "cell_type": "markdown",
   "metadata": {},
   "source": [
    "## Processing the JSON response - Working from memory"
   ]
  },
  {
   "cell_type": "code",
   "execution_count": 5,
   "metadata": {},
   "outputs": [
    {
     "name": "stdout",
     "output_type": "stream",
     "text": [
      "[\n",
      "  {\n",
      "    \"Airport\": {\n",
      "      \"Code\": \"ATL\",\n",
      "      \"Name\": \"Atlanta, GA: Hartsfield-Jackson Atlanta International\"\n",
      "    },\n",
      "    \"Time\": {\n",
      "      \"Label\": \"2003/06\",\n",
      "      \"Month\": 6,\n",
      "      \"Month Name\": \"June\",\n",
      "      \"Year\": 2003\n",
      "    },\n",
      "    \"Statistics\": {\n",
      "      \"# of Delays\": {\n",
      "        \"Carrier\": 1009,\n",
      "        \"Late Aircraft\": 1275,\n",
      "        \"National Aviation System\": 3217,\n",
      "        \"Security\": 17,\n",
      "        \"Weather\": 328\n",
      "      },\n",
      "      \"Carriers\": {\n",
      "        \"Names\": \"American Airlines Inc.,JetBlue Airways,Continental Air Lines Inc.,Delta Air Lines Inc.,Atlantic Southeast Airlines,AirTran Airways Corporation,America West Airlines Inc.,Northwest Airlines Inc.,ExpressJet Airlines Inc.,United Air Lines Inc.,US Airways Inc.\",\n",
      "        \"Total\": 11\n",
      "      },\n",
      "      \"Flights\": {\n",
      "        \"Cancelled\": 216,\n",
      "        \"Delayed\": 5843,\n",
      "        \"Diverted\": 27,\n",
      "        \"On Time\": 23974,\n",
      "        \"Total\": 30060\n",
      " \n"
     ]
    }
   ],
   "source": [
    "#decode the json response content, turning it into a string\n",
    "string_json=req_json.decode('UTF-8')\n",
    "\n",
    "print(string_json[0:900])"
   ]
  },
  {
   "cell_type": "code",
   "execution_count": 6,
   "metadata": {},
   "outputs": [
    {
     "name": "stdout",
     "output_type": "stream",
     "text": [
      "JSON length (in objects): 4408\n"
     ]
    }
   ],
   "source": [
    "#load the string into a dictionary\n",
    "parsed_dict_json = json.loads(string_json)\n",
    "\n",
    "print(\"JSON length (in objects): \" + str(len(parsed_dict_json)))"
   ]
  },
  {
   "cell_type": "code",
   "execution_count": 7,
   "metadata": {
    "scrolled": true
   },
   "outputs": [
    {
     "data": {
      "text/plain": [
       "{'Airport': {'Code': 'ATL',\n",
       "  'Name': 'Atlanta, GA: Hartsfield-Jackson Atlanta International'},\n",
       " 'Statistics': {'# of Delays': {'Carrier': 1009,\n",
       "   'Late Aircraft': 1275,\n",
       "   'National Aviation System': 3217,\n",
       "   'Security': 17,\n",
       "   'Weather': 328},\n",
       "  'Carriers': {'Names': 'American Airlines Inc.,JetBlue Airways,Continental Air Lines Inc.,Delta Air Lines Inc.,Atlantic Southeast Airlines,AirTran Airways Corporation,America West Airlines Inc.,Northwest Airlines Inc.,ExpressJet Airlines Inc.,United Air Lines Inc.,US Airways Inc.',\n",
       "   'Total': 11},\n",
       "  'Flights': {'Cancelled': 216,\n",
       "   'Delayed': 5843,\n",
       "   'Diverted': 27,\n",
       "   'On Time': 23974,\n",
       "   'Total': 30060},\n",
       "  'Minutes Delayed': {'Carrier': 61606,\n",
       "   'Late Aircraft': 68335,\n",
       "   'National Aviation System': 118831,\n",
       "   'Security': 518,\n",
       "   'Total': 268764,\n",
       "   'Weather': 19474}},\n",
       " 'Time': {'Label': '2003/06', 'Month': 6, 'Month Name': 'June', 'Year': 2003}}"
      ]
     },
     "execution_count": 7,
     "metadata": {},
     "output_type": "execute_result"
    }
   ],
   "source": [
    "parsed_dict_json[0]"
   ]
  },
  {
   "cell_type": "code",
   "execution_count": 8,
   "metadata": {},
   "outputs": [
    {
     "name": "stdout",
     "output_type": "stream",
     "text": [
      "{\n",
      "    \"Airport\": {\n",
      "        \"Code\": \"ATL\",\n",
      "        \"Name\": \"Atlanta, GA: Hartsfield-Jackson Atlanta International\"\n",
      "    },\n",
      "    \"Statistics\": {\n",
      "        \"# of Delays\": {\n",
      "            \"Carrier\": 1009,\n",
      "            \"Late Aircraft\": 1275,\n",
      "            \"National Aviation System\": 3217,\n",
      "            \"Security\": 17,\n",
      "            \"Weather\": 328\n",
      "        },\n",
      "        \"Carriers\": {\n",
      "            \"Names\": \"American Airlines Inc.,JetBlue Airways,Continental Air Lines Inc.,Delta Air Lines Inc.,Atlantic Southeast Airlines,AirTran Airways Corporation,America West Airlines Inc.,Northwest Airlines Inc.,ExpressJet Airlines Inc.,United Air Lines Inc.,US Airways Inc.\",\n",
      "            \"Total\": 11\n",
      "        },\n",
      "        \"Flights\": {\n",
      "            \"Cancelled\": 216,\n",
      "            \"Delayed\": 5843,\n",
      "            \"Diverted\": 27,\n",
      "            \"On Time\": 23974,\n",
      "            \"Total\": 30060\n",
      "        },\n",
      "        \"Minutes Delayed\": {\n",
      "            \"Carrier\": 61606,\n",
      "            \"Late Aircraft\": 68335,\n",
      "            \"National Aviation System\": 118831,\n",
      "            \"Security\": 518,\n",
      "            \"Total\": 268764,\n",
      "            \"Weather\": 19474\n",
      "        }\n",
      "    },\n",
      "    \"Time\": {\n",
      "        \"Label\": \"2003/06\",\n",
      "        \"Month\": 6,\n",
      "        \"Month Name\": \"June\",\n",
      "        \"Year\": 2003\n",
      "    }\n",
      "}\n"
     ]
    }
   ],
   "source": [
    "#print the first json object, adding indentation (gets printed as a string) - from https://stackoverflow.com/questions/12943819/how-to-prettyprint-a-json-file\n",
    "print(json.dumps(parsed_dict_json[0], indent=4, sort_keys=True))  "
   ]
  },
  {
   "cell_type": "code",
   "execution_count": 9,
   "metadata": {},
   "outputs": [
    {
     "name": "stdout",
     "output_type": "stream",
     "text": [
      "{'Code': 'ATL', 'Name': 'Atlanta, GA: Hartsfield-Jackson Atlanta International'}\n",
      "{'Code': 'BOS', 'Name': 'Boston, MA: Logan International'}\n",
      "{'Code': 'BWI', 'Name': 'Baltimore, MD: Baltimore/Washington International Thurgood Marshall'}\n",
      "{'Code': 'CLT', 'Name': 'Charlotte, NC: Charlotte Douglas International'}\n",
      "{'Code': 'DCA', 'Name': 'Washington, DC: Ronald Reagan Washington National'}\n",
      "{'Code': 'DEN', 'Name': 'Denver, CO: Denver International'}\n",
      "{'Code': 'DFW', 'Name': 'Dallas/Fort Worth, TX: Dallas/Fort Worth International'}\n",
      "{'Code': 'DTW', 'Name': 'Detroit, MI: Detroit Metro Wayne County'}\n",
      "{'Code': 'EWR', 'Name': 'Newark, NJ: Newark Liberty International'}\n",
      "{'Code': 'FLL', 'Name': 'Fort Lauderdale, FL: Fort Lauderdale-Hollywood International'}\n"
     ]
    }
   ],
   "source": [
    "#see the names of the 10 first airports on the dataset\n",
    "c=0\n",
    "\n",
    "for i in parsed_dict_json: \n",
    "    c = c + 1\n",
    "    if c > 10:\n",
    "        break\n",
    "    print(i['Airport'])"
   ]
  },
  {
   "cell_type": "code",
   "execution_count": 10,
   "metadata": {
    "scrolled": true
   },
   "outputs": [
    {
     "data": {
      "text/html": [
       "<div>\n",
       "<style scoped>\n",
       "    .dataframe tbody tr th:only-of-type {\n",
       "        vertical-align: middle;\n",
       "    }\n",
       "\n",
       "    .dataframe tbody tr th {\n",
       "        vertical-align: top;\n",
       "    }\n",
       "\n",
       "    .dataframe thead th {\n",
       "        text-align: right;\n",
       "    }\n",
       "</style>\n",
       "<table border=\"1\" class=\"dataframe\">\n",
       "  <thead>\n",
       "    <tr style=\"text-align: right;\">\n",
       "      <th></th>\n",
       "      <th>name</th>\n",
       "      <th>code</th>\n",
       "      <th>month</th>\n",
       "      <th>year</th>\n",
       "      <th>cancelled_flights</th>\n",
       "      <th>delayed_flights</th>\n",
       "      <th>total_flights</th>\n",
       "      <th>carriers</th>\n",
       "    </tr>\n",
       "  </thead>\n",
       "  <tbody>\n",
       "    <tr>\n",
       "      <th>0</th>\n",
       "      <td>Atlanta, GA: Hartsfield-Jackson Atlanta Intern...</td>\n",
       "      <td>ATL</td>\n",
       "      <td>6</td>\n",
       "      <td>2003</td>\n",
       "      <td>216</td>\n",
       "      <td>5843</td>\n",
       "      <td>30060</td>\n",
       "      <td>11</td>\n",
       "    </tr>\n",
       "    <tr>\n",
       "      <th>1</th>\n",
       "      <td>Boston, MA: Logan International</td>\n",
       "      <td>BOS</td>\n",
       "      <td>6</td>\n",
       "      <td>2003</td>\n",
       "      <td>138</td>\n",
       "      <td>1623</td>\n",
       "      <td>9639</td>\n",
       "      <td>14</td>\n",
       "    </tr>\n",
       "    <tr>\n",
       "      <th>2</th>\n",
       "      <td>Baltimore, MD: Baltimore/Washington Internatio...</td>\n",
       "      <td>BWI</td>\n",
       "      <td>6</td>\n",
       "      <td>2003</td>\n",
       "      <td>29</td>\n",
       "      <td>1245</td>\n",
       "      <td>8287</td>\n",
       "      <td>11</td>\n",
       "    </tr>\n",
       "    <tr>\n",
       "      <th>3</th>\n",
       "      <td>Charlotte, NC: Charlotte Douglas International</td>\n",
       "      <td>CLT</td>\n",
       "      <td>6</td>\n",
       "      <td>2003</td>\n",
       "      <td>73</td>\n",
       "      <td>1562</td>\n",
       "      <td>8670</td>\n",
       "      <td>11</td>\n",
       "    </tr>\n",
       "    <tr>\n",
       "      <th>4</th>\n",
       "      <td>Washington, DC: Ronald Reagan Washington National</td>\n",
       "      <td>DCA</td>\n",
       "      <td>6</td>\n",
       "      <td>2003</td>\n",
       "      <td>74</td>\n",
       "      <td>1100</td>\n",
       "      <td>6513</td>\n",
       "      <td>13</td>\n",
       "    </tr>\n",
       "  </tbody>\n",
       "</table>\n",
       "</div>"
      ],
      "text/plain": [
       "                                                name code  month  year  \\\n",
       "0  Atlanta, GA: Hartsfield-Jackson Atlanta Intern...  ATL      6  2003   \n",
       "1                    Boston, MA: Logan International  BOS      6  2003   \n",
       "2  Baltimore, MD: Baltimore/Washington Internatio...  BWI      6  2003   \n",
       "3     Charlotte, NC: Charlotte Douglas International  CLT      6  2003   \n",
       "4  Washington, DC: Ronald Reagan Washington National  DCA      6  2003   \n",
       "\n",
       "   cancelled_flights  delayed_flights  total_flights  carriers  \n",
       "0                216             5843          30060        11  \n",
       "1                138             1623           9639        14  \n",
       "2                 29             1245           8287        11  \n",
       "3                 73             1562           8670        11  \n",
       "4                 74             1100           6513        13  "
      ]
     },
     "execution_count": 10,
     "metadata": {},
     "output_type": "execute_result"
    }
   ],
   "source": [
    "name = []\n",
    "code = []\n",
    "month = []\n",
    "year = []\n",
    "cancelled_flights = []\n",
    "delayed_flights = []\n",
    "total_flights = []\n",
    "carriers = []\n",
    "\n",
    "for i in parsed_dict_json:\n",
    "    name.append(i['Airport']['Name'])\n",
    "    code.append(i['Airport']['Code'])\n",
    "    month.append(i['Time']['Month'])\n",
    "    year.append(i['Time']['Year'])\n",
    "    cancelled_flights.append(i['Statistics']['Flights']['Cancelled'])\n",
    "    delayed_flights.append(i['Statistics']['Flights']['Delayed'])\n",
    "    total_flights.append(i['Statistics']['Flights']['Total'])\n",
    "    carriers.append(i['Statistics']['Carriers']['Total'])\n",
    "    \n",
    "data_df = {'name':name, 'code': code, 'month':month, 'year':year,'cancelled_flights': cancelled_flights, \\\n",
    "          'delayed_flights':delayed_flights,'total_flights':total_flights, 'carriers':carriers}\n",
    "\n",
    "import pandas as pd\n",
    "\n",
    "df = pd.DataFrame.from_dict(data_df)\n",
    "\n",
    "df.head()"
   ]
  },
  {
   "cell_type": "code",
   "execution_count": 11,
   "metadata": {},
   "outputs": [],
   "source": [
    "now = datetime.now() \n",
    "date_time_string = '_' + now.strftime(\"%Y-%m-%d__%Hh-%Mm\")\n",
    "\n",
    "filepath = r'I:\\My Drive\\Data\\CORGISdata_online\\extractedAirportData{}.xlsx'\n",
    "\n",
    "filepathDrive = filepath.format('')\n",
    "filepathDrive_backup = filepath.format(date_time_string)"
   ]
  },
  {
   "cell_type": "code",
   "execution_count": 13,
   "metadata": {},
   "outputs": [
    {
     "name": "stdout",
     "output_type": "stream",
     "text": [
      "Files saved at: \n",
      "I:\\My Drive\\Data\\CORGISdata_online\\extractedAirportData.xlsx\n",
      "I:\\My Drive\\Data\\CORGISdata_online\\extractedAirportData_2022-04-10__20h-36m.xlsx\n"
     ]
    }
   ],
   "source": [
    "df.to_excel(filepathDrive, sheet_name = 'AirportData_Cleaned', index=False)\n",
    "df.to_excel(filepathDrive_backup, sheet_name = 'AirportData_Cleaned', index=False)\n",
    "\n",
    "print('Files saved at: \\n' + filepathDrive + '\\n' +     filepathDrive_backup)"
   ]
  }
 ],
 "metadata": {
  "kernelspec": {
   "display_name": "Python 3",
   "language": "python",
   "name": "python3"
  },
  "language_info": {
   "codemirror_mode": {
    "name": "ipython",
    "version": 3
   },
   "file_extension": ".py",
   "mimetype": "text/x-python",
   "name": "python",
   "nbconvert_exporter": "python",
   "pygments_lexer": "ipython3",
   "version": "3.6.8"
  }
 },
 "nbformat": 4,
 "nbformat_minor": 2
}
